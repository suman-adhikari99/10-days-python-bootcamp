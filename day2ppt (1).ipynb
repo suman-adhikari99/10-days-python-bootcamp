{
  "nbformat": 4,
  "nbformat_minor": 0,
  "metadata": {
    "colab": {
      "provenance": []
    },
    "kernelspec": {
      "name": "python3",
      "display_name": "Python 3"
    },
    "language_info": {
      "name": "python"
    }
  },
  "cells": [
    {
      "cell_type": "code",
      "execution_count": null,
      "metadata": {
        "id": "47Mf5lE7eKdm"
      },
      "outputs": [],
      "source": []
    },
    {
      "cell_type": "markdown",
      "source": [
        "# **Data Types in Python**\n",
        "\n",
        "\n",
        "\n",
        "**Primitive and Non-Primitive Data Types**\n",
        "\n",
        "\n",
        "\n",
        "*  \n",
        "# Primitive Types: These are fundamental data types in Python.\n",
        "Examples: `int, float, char (Python doesn't have a separate char type; typically represented as strings of length 1), complex.`\n",
        "\n",
        "\n",
        "*   **Non-Primitive Types: These are more complex data types built using primitive types.**\n",
        "\n",
        "    Examples: `list, dict, set, tuple.`\n",
        "\n",
        "\n",
        "**Examples of Primitive Types:**\n",
        "\n",
        "```\n",
        "# a = 45\n",
        "print(a, type(a))  # Output: 45 <class 'int'>\n",
        "\n",
        "b = 4.5\n",
        "print(b, type(b))  # Output: 4.5 <class 'float'>\n",
        "\n",
        "img = 2 + 3j\n",
        "print(img, type(img))  # Output: (2+3j) <class 'complex'>\n",
        "\n",
        "```\n",
        "\n",
        "\n"
      ],
      "metadata": {
        "id": "adv18LFseLZG"
      }
    },
    {
      "cell_type": "markdown",
      "source": [
        "\n",
        "# **Python List Data Type**\n",
        "List is an ordered collection of similar or different types of items separated by commas and enclosed within brackets [ ]\n",
        "\n",
        "\n",
        "\n",
        "```\n",
        "# li=[] #list initalize\n",
        "list1 = [1, 2, \"Python\", \"Program\", 15.9 ] #example\n",
        "\n",
        "```\n",
        "\n",
        "\n",
        "\n",
        "**List Characteristics**\n",
        "*   Mutable\n",
        "\n",
        "*   ordered\n",
        "*   allow duplicate\n",
        "\n",
        "*   indexable\n",
        "\n",
        "\n",
        "\n",
        "\n",
        "**List Indexing and Slice**\n",
        "\n"
      ],
      "metadata": {
        "id": "nzFNyJ4Cf0eZ"
      }
    },
    {
      "cell_type": "code",
      "source": [
        "my_list = [\"apple\", \"banana\", \"cherry\", \"date\"]\n",
        "print(my_list[0])  # Output: \"apple\"  0 index always represnt first element\n",
        "print(my_list[2])  # Output: \"cherry\"\n"
      ],
      "metadata": {
        "id": "Vi4M9xLhKQb_"
      },
      "execution_count": null,
      "outputs": []
    },
    {
      "cell_type": "markdown",
      "source": [
        "**negative indexing**"
      ],
      "metadata": {
        "id": "jQkFjP7XKSif"
      }
    },
    {
      "cell_type": "code",
      "source": [
        "print(my_list[-1])  # Output: \"date\"   -1 always represnt last element\n",
        "print(my_list[-2])  # Output: \"cherry\"\n"
      ],
      "metadata": {
        "id": "xLGmMLswKU7G"
      },
      "execution_count": null,
      "outputs": []
    },
    {
      "cell_type": "markdown",
      "source": [
        "**Slicing allows you to access a portion of a list**"
      ],
      "metadata": {
        "id": "jh4hIHO8KlwT"
      }
    },
    {
      "cell_type": "markdown",
      "source": [
        "**syntax of slicing**\n",
        "\n",
        "\n",
        "```\n",
        "# list_name[start_index:end_index:step]\n",
        "```\n",
        "\n",
        "**note**:\n",
        "\n",
        "\n",
        "*   start_index is `inclusive`\n",
        "*   end_index is `exclusive`\n",
        "\n",
        "**default values:**\n",
        "\n",
        "*   `start_index=0`\n",
        "*   `end_index = len(list)`\n",
        "*   `step=1`\n",
        "\n",
        "**remember:**\n",
        "\n",
        "\n",
        "*  `-ve` value in step also represent trace throug back dirction\n",
        "\n",
        "\n",
        "\n",
        "\n",
        "\n",
        "\n",
        "\n",
        "\n",
        "\n"
      ],
      "metadata": {
        "id": "N03GXXWlK2Q9"
      }
    },
    {
      "cell_type": "code",
      "source": [
        "my_list = [0, 1, 2, 3, 4, 5, 6, 7, 8, 9]\n",
        "\n",
        "# Slice from index 2 to index 5 (exclusive)\n",
        "print(my_list[2:5])  # Output: [2, 3, 4]\n",
        "\n",
        "# Slice from index 3 to the end\n",
        "print(my_list[3:])   # Output: [3, 4, 5, 6, 7, 8, 9]\n",
        "\n",
        "# Slice from the beginning to index 6 (exclusive)\n",
        "print(my_list[:6])   # Output: [0, 1, 2, 3, 4, 5]\n",
        "\n",
        "# Slice with a step of 2\n",
        "print(my_list[::2])  # Output: [0, 2, 4, 6, 8]\n",
        "\n",
        "# Reverse the list using slicing with a negative step\n",
        "print(my_list[::-1]) # Output: [9, 8, 7, 6, 5, 4, 3, 2, 1, 0]\n",
        "\n",
        "my_list = [0, 1, 2, 3, 4, 5, 6, 7, 8, 9]\n",
        "\n",
        "# Slice the list in reverse order, skipping every second element\n",
        "reversed_list_skip = my_list[::-2]\n",
        "print(reversed_list_skip)  # Output: [9, 7, 5, 3, 1]\n"
      ],
      "metadata": {
        "id": "9njXRnO6MkqJ"
      },
      "execution_count": null,
      "outputs": []
    },
    {
      "cell_type": "markdown",
      "source": [
        "**methods in list**"
      ],
      "metadata": {
        "id": "QfFW9sxPNCvb"
      }
    },
    {
      "cell_type": "code",
      "source": [
        "# Define a list\n",
        "my_list = [3, 1, 7, 2, 5]\n",
        "\n",
        "# append(): Adds a single element to the end of the list\n",
        "my_list.append(8)\n",
        "print(\"After append(8):\", my_list)  # Output: [3, 1, 7, 2, 5, 8]\n",
        "\n",
        "# extend(): Adds multiple elements to the end of the list\n",
        "my_list.extend([9, 4])\n",
        "print(\"After extend([9, 4]):\", my_list)  # Output: [3, 1, 7, 2, 5, 8, 9, 4]\n",
        "\n",
        "# index(): Returns the index of the first appearance of the specified value\n",
        "index_7 = my_list.index(7)\n",
        "print(\"Index of 7:\", index_7)  # Output: 2\n",
        "\n",
        "# max(list): Returns the maximum value in the list\n",
        "max_value = max(my_list)\n",
        "print(\"Max value:\", max_value)  # Output: 9\n",
        "\n",
        "# min(list): Returns the minimum value in the list\n",
        "min_value = min(my_list)\n",
        "print(\"Min value:\", min_value)  # Output: 1\n",
        "\n",
        "# len(list): Returns the length of the list\n",
        "length = len(my_list)\n",
        "print(\"Length of the list:\", length)  # Output: 8\n",
        "\n",
        "# list(seq): Converts a tuple into a list\n",
        "my_tuple = (11, 12, 13)\n",
        "converted_list = list(my_tuple)\n",
        "print(\"Converted list:\", converted_list)  # Output: [11, 12, 13]\n",
        "\n",
        "# sort(): Sorts the list in ascending order\n",
        "my_list.sort()\n",
        "print(\"Sorted list:\", my_list)  # Output: [1, 2, 3, 4, 5, 7, 8, 9]\n",
        "\n",
        "# type(list): Returns the class type of an object\n",
        "list_type = type(my_list)\n",
        "print(\"Type of list:\", list_type)  # Output: <class 'list'>\n",
        "\n",
        "# remove(): Removes the first occurrence of a specified element\n",
        "my_list.remove(2)\n",
        "print(\"After removing 2:\", my_list)  # Output: [1, 3, 4, 5, 7, 8, 9]\n",
        "\n",
        "# pop(): Removes and returns the element at the specified index\n",
        "popped_element = my_list.pop(4)\n",
        "print(\"Popped element:\", popped_element)  # Output: 7\n",
        "print(\"After popping at index 4:\", my_list)  # Output: [1, 3, 4, 5, 8, 9]\n",
        "\n",
        "# clear(): Removes all items from the list\n",
        "my_list.clear()\n",
        "print(\"After clearing the list:\", my_list)  # Output: []\n",
        "\n",
        "# Using 'in' keyword to check if an item exists\n",
        "fruits = ['apple', 'banana', 'orange']\n",
        "print(\"Is 'banana' in fruits?\", 'banana' in fruits)  # Output: True\n",
        "print(\"Is 'grape' in fruits?\", 'grape' in fruits)    # Output: False\n"
      ],
      "metadata": {
        "id": "GCmdb7dGNFRa"
      },
      "execution_count": null,
      "outputs": []
    },
    {
      "cell_type": "markdown",
      "source": [
        "\n",
        "**Python offers the following list functions:**\n",
        "\n",
        "\n",
        "\n",
        "```\n",
        "# append(): Adds a single element to a list.\n",
        "```\n",
        "\n",
        "\n",
        "\n",
        "```\n",
        "# extend(): Adds multiple elements to a list.\n",
        "```\n",
        "```\n",
        "index(): Returns the first appearance of the specified value.\n",
        "```\n",
        "```\n",
        "max(list): It returns an item from the list with max value.\n",
        "```\n",
        "```\n",
        "min(list): It returns an item from the list with min value.\n",
        "```\n",
        "```\n",
        "len(list): It gives the total length of the list.\n",
        "```\n",
        "```\n",
        "list(seq): Converts a tuple into a list.\n",
        "```\n",
        "```\n",
        "sort(): Sorts the list in ascending order.\n",
        "```\n",
        "```\n",
        "type(list): It returns the class type of an object.\n",
        "```\n",
        "```\n",
        "remove()\tRemoves item present at the given index\n",
        "```\n",
        "```\n",
        "pop()\tReturns and removes item present at the given index\n",
        "```\n",
        "```\n",
        "clear()\tRemoves all items from the list\n",
        "```\n",
        "\n",
        "\n",
        "```\n",
        "We use the `in` keyword to check if an item exists\n",
        "```"
      ],
      "metadata": {
        "id": "PjW3Hs8Bjuej"
      }
    },
    {
      "cell_type": "markdown",
      "source": [
        "# **Python Sets**\n",
        "\n",
        "A set is a collection of `unique data`, meaning that elements within a set cannot be duplicated.\n",
        "\n",
        "`Sets are mutable`. However, since they are unordered, indexing has no meaning.\n",
        "\n",
        "We cannot access or change an element of a set using indexing or slicing. The set data type does not support it.\n",
        "\n"
      ],
      "metadata": {
        "id": "akFkVaqPelyl"
      }
    },
    {
      "cell_type": "markdown",
      "source": [
        "**Sets can be created using curly braces {} or the set() constructor.**"
      ],
      "metadata": {
        "id": "Wd6ey1cFOHdj"
      }
    },
    {
      "cell_type": "code",
      "source": [
        "# Using curly braces\n",
        "my_set = {1, 2, 3, 4, 5}\n",
        "\n",
        "# Using set() constructor\n",
        "another_set = set([1, 2, 3, 4, 5])\n"
      ],
      "metadata": {
        "id": "qXbDro6eOKxy"
      },
      "execution_count": null,
      "outputs": []
    },
    {
      "cell_type": "markdown",
      "source": [
        "**Adding and Removing Elements in set:**"
      ],
      "metadata": {
        "id": "Ia6ra9C3OOle"
      }
    },
    {
      "cell_type": "code",
      "source": [
        "my_set = {1, 2, 3, 4, 5}\n",
        "my_set.add(6)\n",
        "my_set.remove(3)\n"
      ],
      "metadata": {
        "id": "907QE6jxOPwh"
      },
      "execution_count": null,
      "outputs": []
    },
    {
      "cell_type": "markdown",
      "source": [
        "\n",
        "**Set Operations:**\n"
      ],
      "metadata": {
        "id": "2zvrDd1mOZVy"
      }
    },
    {
      "cell_type": "code",
      "source": [
        "set1 = {1, 2, 3}\n",
        "set2 = {3, 4, 5}\n",
        "\n",
        "# Union\n",
        "union_set = set1 | set2  # {1, 2, 3, 4, 5}\n",
        "\n",
        "# Intersection\n",
        "intersection_set = set1 & set2  # {3}\n",
        "\n",
        "# Difference\n",
        "difference_set = set1 - set2  # {1, 2}\n",
        "\n",
        "# Symmetric Difference\n",
        "symmetric_difference_set = set1 ^ set2  # {1, 2, 4, 5}\n"
      ],
      "metadata": {
        "id": "SToYDb2iOfXE"
      },
      "execution_count": null,
      "outputs": []
    },
    {
      "cell_type": "markdown",
      "source": [
        "**Iterating Over Sets:**"
      ],
      "metadata": {
        "id": "mHOGeM_GOqnE"
      }
    },
    {
      "cell_type": "code",
      "source": [
        "for element in my_set:\n",
        "    print(element)\n"
      ],
      "metadata": {
        "id": "ApExKGX7OsB2"
      },
      "execution_count": null,
      "outputs": []
    },
    {
      "cell_type": "markdown",
      "source": [
        "\n",
        "**Use Cases of set:**\n",
        "\n",
        "\n",
        "*   Removing duplicates from a list or sequence.\n",
        "*   Performing mathematical operations on collections of elements.\n",
        "\n",
        "\n",
        "*   Checking for membership or existence of elements.\n",
        "\n",
        "\n",
        "\n",
        "\n"
      ],
      "metadata": {
        "id": "BvgT_hEYOv08"
      }
    },
    {
      "cell_type": "markdown",
      "source": [
        "\n",
        "\n",
        "# **Python Tuple**\n",
        "`similar to lists. However, tuples are immutable, meaning they cannot be modified after creation. `\n",
        "**We create a tuple by placing items inside parentheses ()**\n",
        "**method in python tuple**\n",
        "\n"
      ],
      "metadata": {
        "id": "ZAZwNn1dldOg"
      }
    },
    {
      "cell_type": "code",
      "source": [
        "my_tuple = (1, 2, 3, 4, 5)\n"
      ],
      "metadata": {
        "id": "vuZWsUZNTDQi"
      },
      "execution_count": null,
      "outputs": []
    },
    {
      "cell_type": "markdown",
      "source": [
        "**accessing element**"
      ],
      "metadata": {
        "id": "5I8Xw9ziTKvA"
      }
    },
    {
      "cell_type": "code",
      "source": [
        "my_tuple = (1, 2, 3, 4, 5)\n",
        "\n",
        "print(my_tuple[0])  # Output: 1\n",
        "print(my_tuple[2])  # Output: 3\n"
      ],
      "metadata": {
        "id": "ne074nS5TO9x"
      },
      "execution_count": null,
      "outputs": []
    },
    {
      "cell_type": "markdown",
      "source": [
        "**Tuple Unpacking:**"
      ],
      "metadata": {
        "id": "m2VXPE-HTUes"
      }
    },
    {
      "cell_type": "code",
      "source": [
        "my_tuple = (1, 2, 3, 4, 5)\n",
        "x, y, z = my_tuple\n",
        "print(x, y, z)  # Output: 1 2 3\n"
      ],
      "metadata": {
        "id": "hs5QcM7FTYjT"
      },
      "execution_count": null,
      "outputs": []
    },
    {
      "cell_type": "markdown",
      "source": [
        "\n",
        "**Immutable Nature:**\n",
        "\n",
        "\n",
        "```\n",
        "# Tuples are immutable, meaning once created, their elements cannot\n",
        " be modified, appended, or removed.\n",
        "```\n",
        "\n"
      ],
      "metadata": {
        "id": "wsUbeNF5lMdd"
      }
    },
    {
      "cell_type": "code",
      "source": [
        "# This will raise an error\n",
        "my_tuple[0] = 10\n"
      ],
      "metadata": {
        "id": "CuBUXLFgV2rF"
      },
      "execution_count": null,
      "outputs": []
    },
    {
      "cell_type": "markdown",
      "source": [
        "**methods in tuples**\n",
        "```\n",
        "#The count() method returns the number of occurrences of a specified\n",
        " element in the tuple.\n",
        "\n",
        "```\n",
        "\n",
        "```\n",
        "# The index() method returns the index of the first occurrence of a specified element in the tuple.\n",
        "```\n",
        "\n",
        "\n"
      ],
      "metadata": {
        "id": "XwEhrHugWDGs"
      }
    },
    {
      "cell_type": "code",
      "source": [
        "my_tuple = (1, 2, 2, 3, 4)\n",
        "print(my_tuple.count(2))  # Output: 2\n",
        "print(my_tuple.index(3))  # Output: 3\n"
      ],
      "metadata": {
        "id": "wQXl0vnTWMKB"
      },
      "execution_count": null,
      "outputs": []
    },
    {
      "cell_type": "markdown",
      "source": [
        "**question**\n",
        "\n",
        "\n",
        "* Given a list colors representing different colors [\"Red\",\n",
        "\"Green\", \"Blue\", \"Yellow\", \"Orange\"], apply list slicing to obtain a new list containing only the colors from index 1 to index 3 inclusive. What would be the resulting sublist?\n",
        "\n",
        "\n",
        "\n",
        "* Given a list numbers containing integers from 1 to 20, apply list slicing to extract every second element starting from index 1 up to index 15 (inclusive). What would be the resulting sublist?\n",
        "\n",
        "\n",
        "\n",
        "*  reverse the given list [\"Red\", \"Green\", \"Blue\", \"Yellow\", \"Orange\"]\n",
        "\n",
        "\n",
        "\n",
        "\n",
        "* Given the list fruits = ['apple', 'banana', 'orange'], use the extend() method to add the elements ['grapes', 'kiwi'] to the list. After extending, check if 'kiwi' exists in the list using the in keyword. What would be the output?\n",
        "\n",
        "\n",
        "\n",
        "\n",
        "* del vs remove vs pop in python list\n",
        "\n",
        "\n",
        "\n",
        "\n",
        "* Given the following dictionary representing student scores:\n",
        "\n",
        "`student_scores = {'John': 85, 'Alice': 90, 'Bob': 75, 'Emily': 95}`\n",
        "Write Python code to perform the following tasks:\n",
        "\n",
        "Add a new student, 'David', with a score of 80.\n",
        "Update Alice's score to 92.\n",
        "Remove Bob's entry from the dictionary.\n",
        "Print the final dictionary.\n",
        "\n",
        "\n",
        "\n",
        "\n",
        "\n",
        "\n",
        "\n",
        "* You are given a dictionary scores where the keys are students' names and the values are their scores. Write Python code to calculate and print the sum of all the scores in the dictionary.\n",
        "\n",
        "Example:\n",
        "\n",
        "\n",
        "```\n",
        "# scores = {'John': 85, 'Alice': 90, 'Bob': 75, 'Emily': 95}\n",
        "```\n",
        "\n",
        "\n",
        "\n",
        "\n",
        "\n",
        "\n",
        "\n",
        "\n",
        "\n",
        "\n"
      ],
      "metadata": {
        "id": "HLgoC1EZhJES"
      }
    },
    {
      "cell_type": "markdown",
      "source": [
        "\n",
        "\n",
        " * You are given a list of tuples representing students' scores in different subjects. Each tuple contains the student's name as the first element and their scores as subsequent elements. Your task is to write a Python function top_students that takes this list of tuples as input and returns a dictionary containing the top-scoring student in each subject. If multiple students have the same top score in a subject, prioritize the student whose name comes first alphabetically.\n",
        "\n",
        "For example, given the following list of tuples:\n",
        "```\n",
        "scores = [\n",
        "\n",
        "\n",
        "\n",
        "    ('Alice', 90, 85, 95),\n",
        "    ('Bob', 88, 92, 90),\n",
        "    ('Charlie', 85, 90, 92),\n",
        "    ('David', 92, 95, 88)\n",
        "]\n",
        "\n",
        "```\n",
        "\n",
        "The function top_students(scores) should return the following dictionary:\n",
        "\n",
        "```\n",
        "# {\n",
        "    0: 'David',\n",
        "    1: 'David',\n",
        "    2: 'Alice'\n",
        "}\n",
        "```\n",
        "\n",
        "\n",
        "**Explanation:**\n",
        "\n",
        "In subject 0, David has the highest score (92).\n",
        "\n",
        "In subject 1, David and Bob have the highest score (95), but\n",
        " since David comes first alphabetically, he is chosen.\n",
        "\n",
        "In subject 2, Alice has the highest score (95).\n",
        "\n",
        "\n",
        "\n"
      ],
      "metadata": {
        "id": "OlshaEgOX_0F"
      }
    },
    {
      "cell_type": "code",
      "source": [],
      "metadata": {
        "id": "1q6qS0RAYOl2"
      },
      "execution_count": null,
      "outputs": []
    }
  ]
}