{
  "cells": [
    {
      "cell_type": "code",
      "execution_count": null,
      "metadata": {
        "id": "11MIWGC4oXGA"
      },
      "outputs": [],
      "source": []
    },
    {
      "cell_type": "markdown",
      "metadata": {
        "id": "niGgs1lEoeg4"
      },
      "source": [
        "**A file is a stored piece of data with some extension**\n",
        "\n",
        "*   example `file1.txt`\n",
        "\n",
        "\n",
        "*   **operation in file: `create, read, update, and delete`\n",
        "\n",
        "\n"
      ]
    },
    {
      "cell_type": "markdown",
      "metadata": {
        "id": "cHqvTx-9vXmJ"
      },
      "source": [
        "**To open this file, we can use the open() function.**"
      ]
    },
    {
      "cell_type": "code",
      "execution_count": null,
      "metadata": {
        "id": "gzs4lqU1xKpe"
      },
      "outputs": [],
      "source": [
        "# Open file without with statement\n",
        "file = open('example.txt', 'r')\n",
        "content = file.read()\n",
        "print(content)\n",
        "file.close()  # Close the file\n"
      ]
    },
    {
      "cell_type": "markdown",
      "metadata": {
        "id": "itrSIN75xhat"
      },
      "source": [
        "**with statement:**\n",
        "\n",
        "The with statement in Python efficiently handles resources, like files, ensuring automatic opening and closing. It guarantees proper resource release, even during exceptions.\n",
        "\n",
        "with statement is also known as `# context manager`"
      ]
    },
    {
      "cell_type": "code",
      "execution_count": null,
      "metadata": {
        "id": "udJy_8sHzAQR"
      },
      "outputs": [],
      "source": [
        "with open('file.txt', 'r') as file:\n",
        "    content = file.read()\n",
        "    print(content)"
      ]
    },
    {
      "cell_type": "markdown",
      "metadata": {
        "id": "0K5M6vWvw3Sg"
      },
      "source": [
        "**Write Mode ('w'):**\n",
        "\n",
        " Opens a file for writing. It creates a new file if it does not exist. If the file exists, it truncates it."
      ]
    },
    {
      "cell_type": "code",
      "execution_count": null,
      "metadata": {
        "id": "O3ZKs6Nbw77j"
      },
      "outputs": [],
      "source": [
        "with open('o\n",
        "          \n",
        "          \n",
        "          \n",
        "          utput.txt', 'w') as file:\n",
        "    file.write('Hello, world!')\n"
      ]
    },
    {
      "cell_type": "markdown",
      "metadata": {
        "id": "krAHbFNtzOUT"
      },
      "source": [
        "**Append Mode ('a'):**\n",
        "\n",
        " Opens a file for appending. It creates a new file if it does not exist."
      ]
    },
    {
      "cell_type": "code",
      "execution_count": null,
      "metadata": {
        "id": "dFC1QXarzWIt"
      },
      "outputs": [],
      "source": [
        "with open('data.txt', 'a') as file:\n",
        "    file.write('New data\\n')\n"
      ]
    },
    {
      "cell_type": "markdown",
      "metadata": {
        "id": "SvkZp5fOzknL"
      },
      "source": [
        "**Read and Write Mode ('r+' or 'w+'):**\n",
        "\n",
        " Opens a file for both reading and writing. It creates a new file if it does not exist."
      ]
    },
    {
      "cell_type": "code",
      "execution_count": null,
      "metadata": {
        "id": "N_bS8t8rzqo2"
      },
      "outputs": [],
      "source": [
        "with open('data.txt', 'r+') as file:\n",
        "    content = file.read()\n",
        "    file.write('New data\\n' + content)  # Writing new data at the beginning\n"
      ]
    },
    {
      "cell_type": "markdown",
      "metadata": {
        "id": "KPJrx4gA0RDS"
      },
      "source": [
        "**Commonly Used File Methods in Python**\n",
        "```  open()\n",
        "```\n",
        "read()\n",
        "```\n",
        "```\n",
        "```\n",
        "write()\n",
        "```\n",
        "```\n",
        "close()\n",
        "```\n",
        " already covered above\n",
        "\n"
      ]
    },
    {
      "cell_type": "markdown",
      "metadata": {
        "id": "53x6ianA1FuA"
      },
      "source": [
        "**readline():** Reads one line from the file.\n",
        "\n",
        "\n",
        "```\n",
        "line = file.readline()\n",
        "print(line)\n",
        "```\n",
        "**readlines():** Reads all lines from the file and returns a list.\n",
        "\n",
        "\n",
        "```\n",
        "# lines = file.readlines()\n",
        "print(lines)\n",
        "```\n",
        "**seek():** Changes the file's current position.\n",
        "```\n",
        "file.seek(0)\n",
        "```\n",
        "**tell():** Returns the current position within the file.\n",
        "\n",
        "```\n",
        "position = file.tell()\n",
        "print(position)\n",
        "```\n",
        "\n",
        "\n",
        "\n",
        "\n",
        "\n"
      ]
    }
  ],
  "metadata": {
    "colab": {
      "provenance": []
    },
    "kernelspec": {
      "display_name": "Python 3",
      "name": "python3"
    },
    "language_info": {
      "name": "python"
    }
  },
  "nbformat": 4,
  "nbformat_minor": 0
}
