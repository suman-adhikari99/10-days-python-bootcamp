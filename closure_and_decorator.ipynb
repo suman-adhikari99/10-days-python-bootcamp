{
  "cells": [
    {
      "cell_type": "code",
      "execution_count": null,
      "metadata": {
        "id": "AI9ckHAdc_j4"
      },
      "outputs": [],
      "source": []
    },
    {
      "cell_type": "markdown",
      "metadata": {
        "id": "wtRWomlSeICD"
      },
      "source": [
        "**Python closure**\n",
        "\n",
        "closure is a nested function that helps us access the outer function's variables even after the outer function is closed"
      ]
    },
    {
      "cell_type": "code",
      "execution_count": null,
      "metadata": {
        "id": "TSQrNoc0e3X6"
      },
      "outputs": [],
      "source": [
        "def greet():\n",
        "    # variable defined outside the inner function\n",
        "    name = \"John\"\n",
        "\n",
        "    # return a nested anonymous function\n",
        "    return lambda: \"Hi \" + name\n",
        "\n",
        "# call the outer function\n",
        "message = greet()\n",
        "\n",
        "# call the inner function\n",
        "print(message())\n",
        "\n",
        "# Output: Hi John"
      ]
    },
    {
      "cell_type": "code",
      "execution_count": null,
      "metadata": {
        "id": "gB6cc8S7eMRV"
      },
      "outputs": [],
      "source": [
        "def create_multiplier(factor):\n",
        "    # Factor defined outside the inner function\n",
        "    def multiply(number):\n",
        "        return number * factor\n",
        "    return multiply\n",
        "\n",
        "# Call the outer function to create a closure for multiplying by 5\n",
        "multiply_by_5 = create_multiplier(5)\n",
        "\n",
        "# Call the inner function to multiply a number by 5\n",
        "result = multiply_by_5(10)\n",
        "print(result)  # Output: 50\n"
      ]
    },
    {
      "cell_type": "markdown",
      "metadata": {
        "id": "nEO0fT9yfOO-"
      },
      "source": [
        "\n",
        "**When to use closures?**\n",
        "\n",
        "\n",
        "Closures can be used to avoid global values and provide data hiding,"
      ]
    },
    {
      "cell_type": "markdown",
      "metadata": {
        "id": "H_Yna_2ygQDx"
      },
      "source": [
        "**Return a Function as a Value**"
      ]
    },
    {
      "cell_type": "code",
      "execution_count": null,
      "metadata": {},
      "outputs": [],
      "source": []
    },
    {
      "cell_type": "code",
      "execution_count": null,
      "metadata": {
        "id": "G5ui56mVgUS7"
      },
      "outputs": [],
      "source": [
        "def greeting(name):\n",
        "    def hello():\n",
        "        return \"Hello, \" + name + \"!\"\n",
        "    return hello\n",
        "\n",
        "greet = greeting(\"Atlantis\")\n",
        "print(greet())  # prints \"Hello, Atlantis!\"\n",
        "\n",
        "# Output: Hello, Atlantis!"
      ]
    },
    {
      "cell_type": "markdown",
      "metadata": {
        "id": "CgAJC63DgZTW"
      },
      "source": [
        "\n",
        "** Python Decorators**\n",
        "\n",
        ", a decorator takes in a function, adds some functionality and returns it."
      ]
    },
    {
      "cell_type": "code",
      "execution_count": null,
      "metadata": {
        "id": "v8e6ZvPigrnt"
      },
      "outputs": [],
      "source": [
        "def make_pretty(func):\n",
        "    def inner():\n",
        "        print(\"I got decorated\")\n",
        "        func()\n",
        "    return inner\n",
        "\n",
        "\n",
        "def ordinary():\n",
        "    print(\"I am ordinary\")\n",
        "\n",
        "# Output: I am ordinary"
      ]
    },
    {
      "cell_type": "code",
      "execution_count": null,
      "metadata": {
        "id": "LfJEE2_Gg94x"
      },
      "outputs": [],
      "source": [
        "def make_pretty(func):\n",
        "    # define the inner function\n",
        "    def inner():\n",
        "        # add some additional behavior to decorated function\n",
        "        print(\"I got decorated\")\n",
        "\n",
        "        # call original function\n",
        "        func()\n",
        "    # return the inner function\n",
        "    return inner\n",
        "\n",
        "# define ordinary function\n",
        "def ordinary():\n",
        "    print(\"I am ordinary\")\n",
        "\n",
        "# decorate the ordinary function\n",
        "decorated_func = make_pretty(ordinary)\n",
        "\n",
        "# call the decorated function\n",
        "decorated_func()"
      ]
    },
    {
      "cell_type": "markdown",
      "metadata": {
        "id": "PNYXoakohGkW"
      },
      "source": [
        "**@ Symbol With **\n",
        "\n"
      ]
    },
    {
      "cell_type": "code",
      "execution_count": 1,
      "metadata": {
        "colab": {
          "base_uri": "https://localhost:8080/"
        },
        "id": "5nniMcuLhRmr",
        "outputId": "e9006b72-c0c7-4197-e14b-a0fc4c3630e4"
      },
      "outputs": [
        {
          "name": "stdout",
          "output_type": "stream",
          "text": [
            "I got decorated\n",
            "I am ordinary\n"
          ]
        }
      ],
      "source": [
        "\n",
        "def make_pretty(func):\n",
        "\n",
        "    def inner():\n",
        "        print(\"I got decorated\")\n",
        "        func()\n",
        "    return inner\n",
        "\n",
        "@make_pretty\n",
        "def ordinary():\n",
        "    print(\"I am ordinary\")\n",
        "\n",
        "ordinary()"
      ]
    },
    {
      "cell_type": "markdown",
      "metadata": {
        "id": "OVEpRHbwiNmr"
      },
      "source": [
        "**take argument of function in decorator**"
      ]
    },
    {
      "cell_type": "code",
      "execution_count": null,
      "metadata": {
        "id": "HUKjEnIAiSBv"
      },
      "outputs": [],
      "source": [
        "def my_decorator(func):\n",
        "    def wrapper(*args, **kwargs):\n",
        "        print(\"Decorator is here!\")\n",
        "        result = func(*args, **kwargs)  # Call the original function with its arguments\n",
        "        return result\n",
        "    return wrapper\n",
        "\n",
        "@my_decorator\n",
        "def greet(name):\n",
        "    return f\"Hello, {name}!\"\n",
        "\n",
        "# Call the decorated function with arguments\n",
        "print(greet(\"John\"))\n"
      ]
    },
    {
      "cell_type": "markdown",
      "metadata": {
        "id": "xGr3hpglh75T"
      },
      "source": [
        "**decorator with argument**"
      ]
    },
    {
      "cell_type": "code",
      "execution_count": null,
      "metadata": {
        "id": "tnxmXa8lh-4X"
      },
      "outputs": [],
      "source": [
        "def my_decorator(arg1, arg2):\n",
        "    def decorator(func):\n",
        "        def wrapper(*args, **kwargs):\n",
        "            print(f\"Decorator arguments: {arg1}, {arg2}\")\n",
        "            result = func(*args, **kwargs)\n",
        "            return result\n",
        "        return wrapper\n",
        "    return decorator\n",
        "\n",
        "@my_decorator(\"hello\", 42)\n",
        "def my_function():\n",
        "    print(\"Inside the decorated function\")\n",
        "\n",
        "my_function()\n"
      ]
    },
    {
      "cell_type": "markdown",
      "metadata": {
        "id": "CD_KwU5Wi9HK"
      },
      "source": [
        "**problem with decorator**\n",
        "\n",
        "\n",
        "\n",
        "Decorators can alter the metadata of the original function such as docstring, its name etc, causing confusion.\n",
        "\n",
        "**Solution**: use functools.wraps to preserve metadata."
      ]
    },
    {
      "cell_type": "code",
      "execution_count": null,
      "metadata": {
        "id": "uHoOjJlojOeS"
      },
      "outputs": [],
      "source": [
        "from functools import wraps\n",
        "\n",
        "def my_decorator(func):\n",
        "    @wraps(func)  # Apply functools.wraps decorator\n",
        "    def wrapper(*args, **kwargs):\n",
        "        print(\"Decorator is here!\")\n",
        "        result = func(*args, **kwargs)  # Call the original function with its arguments\n",
        "        return result\n",
        "    return wrapper\n",
        "\n",
        "@my_decorator\n",
        "def greet(name):\n",
        "    \"\"\"A function to greet someone.\"\"\"\n",
        "    return f\"Hello, {name}!\"\n",
        "\n",
        "# Call the decorated function with arguments\n",
        "print(greet(\"John\"))\n",
        "\n",
        "# Check the metadata of the decorated function\n",
        "print(greet.__name__)  # Output: greet\n",
        "print(greet.__doc__)   # Output: A function to greet someone.\n"
      ]
    }
  ],
  "metadata": {
    "colab": {
      "provenance": []
    },
    "kernelspec": {
      "display_name": "Python 3",
      "name": "python3"
    },
    "language_info": {
      "name": "python"
    }
  },
  "nbformat": 4,
  "nbformat_minor": 0
}
