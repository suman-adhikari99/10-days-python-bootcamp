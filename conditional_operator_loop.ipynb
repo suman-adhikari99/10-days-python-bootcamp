{
  "nbformat": 4,
  "nbformat_minor": 0,
  "metadata": {
    "colab": {
      "provenance": []
    },
    "kernelspec": {
      "name": "python3",
      "display_name": "Python 3"
    },
    "language_info": {
      "name": "python"
    }
  },
  "cells": [
    {
      "cell_type": "markdown",
      "source": [
        "\n",
        "** if else in pyton **"
      ],
      "metadata": {
        "id": "tcmig8RFXcOi"
      }
    },
    {
      "cell_type": "code",
      "execution_count": null,
      "metadata": {
        "colab": {
          "base_uri": "https://localhost:8080/"
        },
        "id": "-GWg5eDHWGr1",
        "outputId": "b145ec34-7318-4662-f56a-7d0f48e6e900"
      },
      "outputs": [
        {
          "output_type": "stream",
          "name": "stdout",
          "text": [
            "Enter your age: 24\n",
            "You are an adult.\n",
            "Enter your gender (M/F): M\n",
            "You are a man.\n"
          ]
        }
      ],
      "source": [
        "# Get the age input from the user\n",
        "age = int(input(\"Enter your age: \"))\n",
        "\n",
        "# Check the age and provide a message accordingly\n",
        "if age < 0:\n",
        "    print(\"Invalid age! Age cannot be negative.\")\n",
        "elif age < 18:\n",
        "    print(\"You are a minor.\")\n",
        "elif age < 65:\n",
        "    print(\"You are an adult.\")\n",
        "else:\n",
        "    print(\"You are a senior citizen.\")\n",
        "\n",
        "# Additional condition based on age and gender\n",
        "gender = input(\"Enter your gender (M/F): \")\n",
        "\n",
        "if age < 18:\n",
        "    if gender == \"M\":\n",
        "        print(\"You are a young boy.\")\n",
        "    elif gender == \"F\":\n",
        "        print(\"You are a young girl.\")\n",
        "elif age < 65:\n",
        "    if gender == \"M\":\n",
        "        print(\"You are a man.\")\n",
        "    elif gender == \"F\":\n",
        "        print(\"You are a woman.\")\n",
        "else:\n",
        "    if gender == \"M\":\n",
        "        print(\"You are an elderly man.\")\n",
        "    elif gender == \"F\":\n",
        "        print(\"You are an elderly woman.\")\n"
      ]
    },
    {
      "cell_type": "markdown",
      "source": [
        "**scissoor paper rock game**"
      ],
      "metadata": {
        "id": "xt7rNBz9Yj1w"
      }
    },
    {
      "cell_type": "code",
      "source": [
        "import random\n",
        "\n",
        "def get_user_choice():\n",
        "    \"\"\"Prompt the user to choose rock, paper, or scissors.\"\"\"\n",
        "    while True:\n",
        "        choice = input(\"Enter your choice (rock, paper, or scissors): \").lower()\n",
        "        if choice in ['rock', 'paper', 'scissors']:\n",
        "            return choice\n",
        "        else:\n",
        "            print(\"Invalid choice. Please try again.\")\n",
        "\n",
        "def get_computer_choice():\n",
        "    \"\"\"Generate a random choice for the computer.\"\"\"\n",
        "    return random.choice(['rock', 'paper', 'scissors'])\n",
        "\n",
        "def determine_winner(user_choice, computer_choice):\n",
        "    \"\"\"Determine the winner based on user and computer choices.\"\"\"\n",
        "    if user_choice == computer_choice:\n",
        "        return \"It's a tie!\"\n",
        "    elif (user_choice == 'rock' and computer_choice == 'scissors') or \\\n",
        "         (user_choice == 'scissors' and computer_choice == 'paper') or \\\n",
        "         (user_choice == 'paper' and computer_choice == 'rock'):\n",
        "        return \"You win!\"\n",
        "    else:\n",
        "        return \"Computer wins!\"\n",
        "\n",
        "def play_game():\n",
        "    \"\"\"Play the Rock, Paper, Scissors game.\"\"\"\n",
        "    print(\"Welcome to Rock, Paper, Scissors!\")\n",
        "    user_choice = get_user_choice()\n",
        "    computer_choice = get_computer_choice()\n",
        "    print(f\"You chose {user_choice}.\")\n",
        "    print(f\"Computer chose {computer_choice}.\")\n",
        "    print(determine_winner(user_choice, computer_choice))\n",
        "\n",
        "# Play the game\n",
        "play_game()\n"
      ],
      "metadata": {
        "id": "tlaqh73JYjTX"
      },
      "execution_count": null,
      "outputs": []
    }
  ]
}