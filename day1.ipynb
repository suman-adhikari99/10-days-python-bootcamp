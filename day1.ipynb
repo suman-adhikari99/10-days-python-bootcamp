{
  "nbformat": 4,
  "nbformat_minor": 0,
  "metadata": {
    "colab": {
      "provenance": []
    },
    "kernelspec": {
      "name": "python3",
      "display_name": "Python 3"
    },
    "language_info": {
      "name": "python"
    }
  },
  "cells": [
    {
      "cell_type": "markdown",
      "source": [
        "\n",
        "**Understanding the print() Statement and its Parameters**\n",
        "\n",
        "\n",
        "The print() function in Python is used to output text or other data to the console."
      ],
      "metadata": {
        "id": "WVwMEz2A5fO_"
      }
    },
    {
      "cell_type": "code",
      "source": [
        "# basic use of print\n",
        "print(\"Hello World!\")"
      ],
      "metadata": {
        "id": "GfyMhhdr5pDd"
      },
      "execution_count": null,
      "outputs": []
    },
    {
      "cell_type": "markdown",
      "source": [
        "**end Parameter**\n",
        "\n",
        "The end parameter is used to specify the character(s) that should be printed at the end of the output. By default, it's set to \"\\n\" (newline).*italicized text*"
      ],
      "metadata": {
        "id": "JB90jmHd6Fs1"
      }
    },
    {
      "cell_type": "code",
      "source": [
        "print(\"Hello\", end=\" \")\n",
        "print(\"World\")\n",
        "# Output: Hello World (without newline between \"Hello\" and \"World\").\n",
        "# without end paramenter\n",
        "\n",
        "print(\"Hello\")\n",
        "print(\"World\")\n",
        "\n",
        "# see the difference in output"
      ],
      "metadata": {
        "id": "UaVhmF576Mfn"
      },
      "execution_count": null,
      "outputs": []
    },
    {
      "cell_type": "markdown",
      "source": [
        "**'sep' Parameter:**\n",
        "\n",
        "The sep parameter is used to specify the separator between multiple items printed using a single print() statement."
      ],
      "metadata": {
        "id": "dVDchHRc6q9f"
      }
    },
    {
      "cell_type": "code",
      "source": [
        "name = \"tingting\"\n",
        "second_name = \"riri\"\n",
        "third_name = \"pomelo\"\n",
        "print('with out sep ',name, second_name, third_name)\n",
        "print('with sep',name, second_name, third_name, sep=\"-\")\n"
      ],
      "metadata": {
        "id": "rJ50vU5h635C"
      },
      "execution_count": null,
      "outputs": []
    },
    {
      "cell_type": "markdown",
      "source": [
        "# **Understanding String Formatting and Docstrings in Python\\**\n",
        "** **\n",
        "\n",
        "\n"
      ],
      "metadata": {
        "id": "jxM7siDD7hoY"
      }
    },
    {
      "cell_type": "markdown",
      "source": [
        "String formatting allows for the creation of dynamic strings by inserting variable values into placeholders within the string.\n",
        "\n"
      ],
      "metadata": {
        "id": "GtWpxhIx8Syu"
      }
    },
    {
      "cell_type": "markdown",
      "source": [],
      "metadata": {
        "id": "dHlkEVEM8lhe"
      }
    },
    {
      "cell_type": "markdown",
      "source": [
        "**Using .format() Method:**\n",
        "\n"
      ],
      "metadata": {
        "id": "Kj6kg6DP8lqT"
      }
    },
    {
      "cell_type": "code",
      "source": [
        "date = 2024\n",
        "day = 'Monday'\n",
        "formatted_str = 'Today is {} and day is {}'.format(date, day)\n",
        "print(formatted_str)"
      ],
      "metadata": {
        "id": "lf63xzKZ8Igz"
      },
      "execution_count": null,
      "outputs": []
    },
    {
      "cell_type": "markdown",
      "source": [
        "**Using f-strings (Formatted String Literals):**"
      ],
      "metadata": {
        "id": "LLgLJRAs83RT"
      }
    },
    {
      "cell_type": "code",
      "source": [
        "date = 2024\n",
        "day = 'Monday'\n",
        "formatted_str = f'Today is {date} and day is {day}'\n",
        "print(formatted_str)"
      ],
      "metadata": {
        "id": "rp8zxa_F87Uh"
      },
      "execution_count": null,
      "outputs": []
    },
    {
      "cell_type": "markdown",
      "source": [
        "**Docstrings:**\n",
        "\n",
        "Docstrings are strings used to document functions, classes, or modules in Python. They provide useful information about the purpose, usage, and parameters of the code.\n"
      ],
      "metadata": {
        "id": "mtHuKif29HWT"
      }
    },
    {
      "cell_type": "code",
      "source": [
        "def calculate_area(length, width):\n",
        "    \"\"\"\n",
        "    Calculate the area of a rectangle.\n",
        "\n",
        "    Args:\n",
        "        length (float): Length of the rectangle.\n",
        "        width (float): Width of the rectangle.\n",
        "\n",
        "    Returns:\n",
        "        float: Area of the rectangle.\n",
        "    \"\"\"\n",
        "    return length * width\n"
      ],
      "metadata": {
        "id": "w-EgJSvk9I-c"
      },
      "execution_count": null,
      "outputs": []
    },
    {
      "cell_type": "markdown",
      "source": [
        "Docstrings help in understanding the functionality of code and are accessed using the __doc__ attribute.\n",
        "\n"
      ],
      "metadata": {
        "id": "D0_048ly9btV"
      }
    },
    {
      "cell_type": "code",
      "source": [
        "print(calculate_area.__doc__)\n"
      ],
      "metadata": {
        "id": "EaGjVZdn9n6p"
      },
      "execution_count": null,
      "outputs": []
    },
    {
      "cell_type": "markdown",
      "source": [
        "**why doc string, string fromating and comment?**\n",
        "\n",
        "Understanding string formatting, comment and docstrings enhances code readability and maintainability, making it easier for developers to work with Python codebases"
      ],
      "metadata": {
        "id": "aUvm_vwi96Xm"
      }
    },
    {
      "cell_type": "markdown",
      "source": [
        "# **Understanding Variables and Naming Convention in Python**"
      ],
      "metadata": {
        "id": "lqjnbAA--cds"
      }
    },
    {
      "cell_type": "markdown",
      "source": [],
      "metadata": {
        "id": "7qGBJeRV-gZt"
      }
    },
    {
      "cell_type": "markdown",
      "source": [
        "Variables in Python are used to store data values\n",
        "\n",
        "**Naming Convention:**\n",
        "\n",
        "*   Variables should start with a letter or underscore, not a number\n",
        "\n",
        "*   Use lowercase letters with words separated by underscores (snake_case) for variable names\n",
        "\n",
        "*   Avoid using reserved keywords or built-in function names as variable names.\n",
        "\n",
        "\n",
        "\n",
        "\n",
        "\n"
      ],
      "metadata": {
        "id": "xr4Q0XS2-gcr"
      }
    },
    {
      "cell_type": "code",
      "source": [
        "num_students = 20\n",
        "total_sales = 1000.50\n",
        "customer_name = \"John Doe\"\n"
      ],
      "metadata": {
        "id": "9q4_NSnD_Se3"
      },
      "execution_count": null,
      "outputs": []
    },
    {
      "cell_type": "code",
      "source": [
        "first_name='falano'\n",
        "print(first_name,type(first_name) )\n",
        "first_name=2000\n",
        "print(first_name,type(first_name) )"
      ],
      "metadata": {
        "id": "lSVeEfJC_OrZ"
      },
      "execution_count": null,
      "outputs": []
    }
  ]
}