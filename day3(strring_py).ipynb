{
  "nbformat": 4,
  "nbformat_minor": 0,
  "metadata": {
    "colab": {
      "provenance": []
    },
    "kernelspec": {
      "name": "python3",
      "display_name": "Python 3"
    },
    "language_info": {
      "name": "python"
    }
  },
  "cells": [
    {
      "cell_type": "code",
      "execution_count": null,
      "metadata": {
        "id": "nGkdRdm_wr-c"
      },
      "outputs": [],
      "source": []
    },
    {
      "cell_type": "markdown",
      "source": [
        "# **Python String**\n",
        "\n",
        "**a string is a sequence of characters. For example, \"hello\"**\n",
        "\n",
        "\n",
        "\n",
        "*   Compare Two Strings\n",
        "*   membership test in string\n",
        "\n",
        "*   iterate through string\n",
        "*   string length\n",
        "\n"
      ],
      "metadata": {
        "id": "CRmJphXqxGMQ"
      }
    },
    {
      "cell_type": "markdown",
      "source": [
        "# **Some Important Methods in String**\n",
        "\n",
        "\n",
        "*   upper()\n",
        "*   lower()\n",
        "\n",
        "\n",
        "*   capitalize()\n",
        "*   find()\n",
        "\n",
        "\n",
        "*   replace()\n",
        "*   strip()\n",
        "\n",
        "\n",
        "\n",
        "\n",
        "\n"
      ],
      "metadata": {
        "id": "fNZMcjovyir0"
      }
    },
    {
      "cell_type": "markdown",
      "source": [
        "# **split() in string**\n",
        "The `split()` method breaks down a string into a list of substrings using a chosen separator."
      ],
      "metadata": {
        "id": "2EsT7uNizPIy"
      }
    },
    {
      "cell_type": "code",
      "source": [
        "# split() Syntax\n",
        "str.split(separator, maxsplit)"
      ],
      "metadata": {
        "id": "pmvMsc90z1dq"
      },
      "execution_count": null,
      "outputs": []
    },
    {
      "cell_type": "markdown",
      "source": [
        "# **Join()**\n",
        "```\n",
        "# The string join() method returns a string by joining all the\n",
        "elements of an iterable (list, string, tuple), separated by the given separator.\n",
        "\n",
        "```\n",
        "\n",
        "\n"
      ],
      "metadata": {
        "id": "dnk6to9c1OEI"
      }
    },
    {
      "cell_type": "code",
      "source": [
        "text = ['Python', 'is', 'a', 'fun', 'programming', 'language']\n",
        "\n",
        "# join elements of text with space\n",
        "print(' '.join(text))\n",
        "\n",
        "# Output: Python is a fun programming language"
      ],
      "metadata": {
        "id": "lYb5FA4V1Yi1"
      },
      "execution_count": null,
      "outputs": []
    },
    {
      "cell_type": "code",
      "source": [
        "string.join(iterable)\n"
      ],
      "metadata": {
        "id": "oqyuZOln11MD"
      },
      "execution_count": null,
      "outputs": []
    },
    {
      "cell_type": "code",
      "source": [
        "# Joining elements of a list with a separator\n",
        "my_list = ['apple', 'banana', 'orange']\n",
        "separator = ', '\n",
        "result = separator.join(my_list)\n",
        "print(result)\n"
      ],
      "metadata": {
        "id": "5UOAo8dg2KZw"
      },
      "execution_count": null,
      "outputs": []
    },
    {
      "cell_type": "markdown",
      "source": [
        "`If the iterable contains any non-string values, it raises the TypeError `"
      ],
      "metadata": {
        "id": "ZFHdwEc82WoX"
      }
    },
    {
      "cell_type": "markdown",
      "source": [
        "**Explore yourself**\n",
        "\n",
        "\n",
        "*   isdigit()\n",
        "*   isalphanumeric()\n",
        "\n",
        "*   title()\n",
        "*   startswith()\n",
        "\n",
        "*   isdecimal()\n",
        "\n",
        "\n",
        "\n",
        "\n",
        "\n",
        "\n"
      ],
      "metadata": {
        "id": "Iez-zsXV21HQ"
      }
    },
    {
      "cell_type": "markdown",
      "source": [
        "# **Question**\n",
        "\n",
        "```\n",
        "# Write a program to check if one string is a rotation\n",
        " of another. For example, given the strings \"waterbottle\"\n",
        " and \"erbottlewat\", your program should return True.\n",
        "\n",
        "```\n",
        "```\n",
        "\n",
        "# Implement a function to perform basic string compression\n",
        " using the counts of repeated characters. For example, the\n",
        "  string \"aabcccccaaa\" would become \"a2b1c5a3\". If the\n",
        "  compressed string is not smaller than the original string,\n",
        "   your function should return the original string.\n",
        "```\n",
        "\n",
        "```\n",
        "# Implement a Python program that reverses a given string.\n",
        " For example, if the input string is \"hello\", the output\n",
        " should be \"olleh\".\n",
        "\n",
        "```\n"
      ],
      "metadata": {
        "id": "ImqOTNb03dd1"
      }
    },
    {
      "cell_type": "code",
      "source": [],
      "metadata": {
        "id": "6N4Svqn04Tx7"
      },
      "execution_count": null,
      "outputs": []
    }
  ]
}