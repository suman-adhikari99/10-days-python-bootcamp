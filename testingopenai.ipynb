{
 "cells": [
  {
   "cell_type": "code",
   "execution_count": 1,
   "id": "3ff474e4-1b5f-4236-a61d-8f4733a04fc4",
   "metadata": {},
   "outputs": [],
   "source": [
    "mykey=\"sk-proj-qAXr6kHTZz5nT74GWxa8T3BlbkFJ6zGlnAb5Vh3vsPk7iSxc\""
   ]
  },
  {
   "cell_type": "code",
   "execution_count": 7,
   "id": "721406cc-f0aa-4114-a1a3-1b407afd0764",
   "metadata": {},
   "outputs": [],
   "source": [
    "from openai import OpenAI as openai"
   ]
  },
  {
   "cell_type": "code",
   "execution_count": 12,
   "id": "ce50cfb0-1944-4922-b993-5a01120a6846",
   "metadata": {},
   "outputs": [
    {
     "ename": "AttributeError",
     "evalue": "type object 'OpenAI' has no attribute 'models'",
     "output_type": "error",
     "traceback": [
      "\u001b[0;31m---------------------------------------------------------------------------\u001b[0m",
      "\u001b[0;31mAttributeError\u001b[0m                            Traceback (most recent call last)",
      "Cell \u001b[0;32mIn[12], line 2\u001b[0m\n\u001b[1;32m      1\u001b[0m openai\u001b[38;5;241m.\u001b[39mapi_key\u001b[38;5;241m=\u001b[39mmykey\n\u001b[0;32m----> 2\u001b[0m \u001b[43mopenai\u001b[49m\u001b[38;5;241;43m.\u001b[39;49m\u001b[43mmodels\u001b[49m\u001b[38;5;241m.\u001b[39mlist()\n",
      "\u001b[0;31mAttributeError\u001b[0m: type object 'OpenAI' has no attribute 'models'"
     ]
    }
   ],
   "source": [
    "openai.api_key=mykey\n",
    "openai.models.list()"
   ]
  }
 ],
 "metadata": {
  "kernelspec": {
   "display_name": "Python 3 (ipykernel)",
   "language": "python",
   "name": "python3"
  },
  "language_info": {
   "codemirror_mode": {
    "name": "ipython",
    "version": 3
   },
   "file_extension": ".py",
   "mimetype": "text/x-python",
   "name": "python",
   "nbconvert_exporter": "python",
   "pygments_lexer": "ipython3",
   "version": "3.10.12"
  }
 },
 "nbformat": 4,
 "nbformat_minor": 5
}
