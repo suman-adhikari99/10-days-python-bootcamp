{
  "cells": [
    {
      "cell_type": "code",
      "execution_count": null,
      "metadata": {
        "id": "C86tCZe563Dv"
      },
      "outputs": [],
      "source": []
    },
    {
      "cell_type": "markdown",
      "metadata": {
        "id": "W7YRcq9iKOrm"
      },
      "source": [
        "**A function is a block of code which only runs when it is called.**\n",
        "\n",
        "**Parameter:** A variable declared in the function definition that represents a value passed to the function.\n",
        "\n",
        " **Argumentt:** A value passed to a function when it is called, which corresponds to a parameter in the function definition.\n"
      ]
    },
    {
      "cell_type": "code",
      "execution_count": null,
      "metadata": {
        "id": "0xo8bk_FKqoc"
      },
      "outputs": [],
      "source": [
        "def greet(name):\n",
        "    print(\"Hello, \" + name + \"!\")\n",
        "\n",
        "# Call the function\n",
        "greet(\"Alice\")  # Output: Hello, Alice!"
      ]
    },
    {
      "cell_type": "markdown",
      "metadata": {
        "id": "n6nXWMCaLHSO"
      },
      "source": [
        "**return**\n",
        "\n",
        "\n",
        "*   The return keyword finished the execution of a method,\n",
        "*   can be used to return a value from a method\n",
        "\n"
      ]
    },
    {
      "cell_type": "code",
      "execution_count": null,
      "metadata": {
        "id": "glVghYu4Ladb"
      },
      "outputs": [],
      "source": [
        "def add(a, b):\n",
        "    return a + b\n",
        "\n",
        "# Call the function with arguments\n",
        "result = add(3, 5)  # a = 3, b = 5\n",
        "print(result)  # Output: 8\n"
      ]
    },
    {
      "cell_type": "markdown",
      "metadata": {
        "id": "_wel8iGBMcH7"
      },
      "source": [
        "**default parameter**\n",
        "\n",
        "> Default parameters in Python allow you to specify a default value for a function parameter. If the caller doesn't provide a value for that parameter, the default value is used.\n",
        "\n",
        "\n"
      ]
    },
    {
      "cell_type": "code",
      "execution_count": null,
      "metadata": {
        "id": "-4xNt6JGMwgT"
      },
      "outputs": [],
      "source": [
        "def greet(name=\"World\"):\n",
        "    print(\"Hello, \" + name + \"!\")\n",
        "\n",
        "# Call the function with and without providing a value\n",
        "greet(\"Alice\")  # Output: Hello, Alice!\n",
        "greet()         # Output: Hello, World!\n"
      ]
    },
    {
      "cell_type": "markdown",
      "metadata": {
        "id": "U_eFGxZ4Lpzn"
      },
      "source": [
        "** `*args` and `**kwargs` in function**\n",
        "\n",
        "\n",
        "\n",
        "*   **args:** Allows a function to accept any number of positional arguments as a tuple.\n",
        "*   ** kwargs: ** Allows a function to accept any number of keyword arguments as a dictionary.\n",
        "\n"
      ]
    },
    {
      "cell_type": "code",
      "execution_count": null,
      "metadata": {
        "id": "ChhM4K_OM1W9"
      },
      "outputs": [],
      "source": [
        "def example_function(*args, **kwargs):\n",
        "    print(\"Positional arguments:\", args)\n",
        "    print(\"Keyword arguments:\", kwargs)\n",
        "\n",
        "# Call the function with variable arguments\n",
        "example_function(1, 2, 3, name=\"Alice\", age=30)\n",
        "# Output:\n",
        "# Positional arguments: (1, 2, 3)\n",
        "# Keyword arguments: {'name': 'Alice', 'age': 30}\n"
      ]
    },
    {
      "cell_type": "markdown",
      "metadata": {
        "id": "yj_AW_OWNF3w"
      },
      "source": [
        "**labmda function**\n",
        "\n",
        "\n",
        "*   A lambda function is a small anonymous function.\n",
        "\n",
        "\n",
        "*   A lambda function can take any number of arguments, but can only have one expression.\n",
        "\n",
        "\n",
        "**sntax**\n",
        "\n",
        "\n",
        "\n",
        "```\n",
        "# lambda arguments : expression\n",
        "```\n",
        "\n",
        "\n",
        "\n",
        "\n",
        "\n",
        "\n"
      ]
    },
    {
      "cell_type": "markdown",
      "metadata": {
        "id": "sfrnHlulPZeY"
      },
      "source": []
    },
    {
      "cell_type": "markdown",
      "metadata": {
        "id": "dA6l2SyXOF5c"
      },
      "source": [
        "# ** coding exercise**\n",
        "> `Write a Python function called apply_operation that takes three arguments:\n",
        "\n",
        "\n",
        "*  **operation**: A string representing the operation to be performed. It can be one of the following: `\"add\", \"subtract\", \"multiply\", or \"divide\".`\n",
        "*  ** num1:** The first number (integer or float).\n",
        "\n",
        "*   **num2:** The second number (integer or float).\n",
        "\n",
        "The function should perform the specified operation on num1 and num2 and return the result.\n",
        "**example**\n",
        "`\n",
        "# Test the apply_operation function\n",
        "result_add = apply_operation(\"add\", 3, 5)  # Should return 8\n",
        "result_multiply = apply_operation(\"multiply\", 2, 4)  # Should return 8\n",
        "\n",
        "`\n",
        "\n",
        "\n",
        "\n",
        "\n",
        "\n",
        "\n",
        "\n",
        "`\n",
        "\n"
      ]
    },
    {
      "cell_type": "markdown",
      "metadata": {
        "id": "2rx79DWiQRM1"
      },
      "source": [
        "**Prime Number Check:**\n",
        "\n",
        "Develop a Python function called is_prime that takes an integer\n",
        "�\n",
        "n as input and returns True if\n",
        "�\n",
        "n is a prime number, and False otherwise."
      ]
    },
    {
      "cell_type": "markdown",
      "metadata": {
        "id": "AZ7lAW-IPaWM"
      },
      "source": [
        "**Fibonacci Sequence:**\n",
        "\n",
        "Create a Python function called fibonacci that generates the Fibonacci sequence up to the\n",
        "�\n",
        "n-th term, where\n",
        "�\n",
        "n is a non-negative integer. The Fibonacci sequence starts with 0 and 1, and e[link text](https://)ach subsequent term is the sum of the two preceding terms.\n",
        "\n",
        "For example, the sequence starts as follows:\n",
        "\n",
        "\n",
        "```\n",
        "# 0, 1, 1, 2, 3, 5, 8, 13, 21, ...\n",
        "```\n",
        "\n"
      ]
    },
    {
      "cell_type": "markdown",
      "metadata": {
        "id": "xfqOMup4Qc2r"
      },
      "source": [
        "**Greatest Common Divisor (GCD):**\n",
        "\n",
        "Implement a Python function called gcd that takes two positive integers\n",
        "�\n",
        "a and\n",
        "�\n",
        "b as input and returns their greatest common divisor (GCD).\n",
        "\n"
      ]
    },
    {
      "cell_type": "markdown",
      "metadata": {
        "id": "Mjl9sC_5QvPk"
      },
      "source": [
        "**check palindrome**\n",
        "\n",
        "Write a Python function called is_palindrome that takes a string as input and returns True if the string is a palindrome, and False otherwise. A palindrome is a word, phrase, number, or other sequence of characters that reads the same forward and backward, ignoring spaces, punctuation, and capitalization.\n",
        "```\n",
        "is_palindrome(\"radar\")  # Output: True\n",
        "is_palindrome(\"hello\")  # Output: False\n",
        "is_palindrome(\"A man a plan a canal Panama\")  # Output: True\n",
        "\n",
        "```\n",
        "\n",
        "\n"
      ]
    },
    {
      "cell_type": "markdown",
      "metadata": {
        "id": "ABpkN-IARC_k"
      },
      "source": [
        "**wap to check_palindrome using lambda function**"
      ]
    },
    {
      "cell_type": "markdown",
      "metadata": {
        "id": "a0Odq1hsSDd9"
      },
      "source": [
        "**sort vs sorted**\n",
        "\n",
        "\n",
        "*  **sort()** modifies the original list\n",
        "\n",
        "\n",
        "\n",
        "*   **sorted()** creates a new sorted list.\n",
        "\n",
        "\n"
      ]
    },
    {
      "cell_type": "code",
      "execution_count": null,
      "metadata": {
        "id": "3F9hVSObSpjQ"
      },
      "outputs": [],
      "source": [
        "my_list = [3, 1, 4, 1, 5, 9, 2, 6]\n",
        "my_list.sort()\n",
        "print(my_list)  # Output: [1, 1, 2, 3, 4, 5, 6, 9]\n"
      ]
    },
    {
      "cell_type": "code",
      "execution_count": null,
      "metadata": {
        "id": "ShL1adPNStO7"
      },
      "outputs": [],
      "source": [
        "my_list = [3, 1, 4, 1, 5, 9, 2, 6]\n",
        "sorted_list = sorted(my_list)\n",
        "print(sorted_list)  # Output: [1, 1, 2, 3, 4, 5, 6, 9]\n"
      ]
    },
    {
      "cell_type": "markdown",
      "metadata": {
        "id": "2TY5pH0QSzFe"
      },
      "source": [
        "**sort dictionary by its value**\n",
        "\n",
        "Write the sort_dict_by_value function and test it with different dictionaries to ensure it sorts them correctly by their values.\n",
        "\n",
        "\n",
        "\n",
        "#  Input dictionary\n",
        "`\n",
        "my_dict = {'apple': 3, 'banana': 1, 'orange': 2}\n",
        "`\n",
        "# Call the function\n",
        "`\n",
        "sorted_dict = sort_dict_by_value(my_dict)\n",
        "`\n",
        "\n",
        "# Output\n",
        "`\n",
        "print(sorted_dict)\n",
        "# Expected output: {'banana': 1, 'orange': 2, 'apple': 3}\n",
        "\n",
        "`\n",
        "\n"
      ]
    },
    {
      "cell_type": "markdown",
      "metadata": {
        "id": "INjOPtSwRnmU"
      },
      "source": [
        "# ** Higher order function **\n",
        "**map():**\n",
        "\n",
        "\n",
        "\n",
        " Applies a function to all items in an iterable and returns a new iterator with the results.\n",
        "\n",
        "\n",
        "```\n",
        "#  Double each number in a list\n",
        "numbers = [1, 2, 3, 4, 5]\n",
        "doubled_numbers = map(lambda x: x * 2, numbers)\n",
        "print(list(doubled_numbers))  # Output: [2, 4, 6, 8, 10]\n",
        "\n",
        "```\n",
        "\n"
      ]
    },
    {
      "cell_type": "markdown",
      "metadata": {
        "id": "vMg-mmZ-ULBI"
      },
      "source": [
        "**filter():**\n",
        "\n",
        "Filters elements from an iterable based on a function's condition and returns a new iterator with the filtered elements."
      ]
    },
    {
      "cell_type": "code",
      "execution_count": null,
      "metadata": {
        "id": "ctAh9YKOU7ST"
      },
      "outputs": [],
      "source": [
        "# Filter even numbers from a list\n",
        "numbers = [1, 2, 3, 4, 5]\n",
        "even_numbers = filter(lambda x: x % 2 == 0, numbers)\n",
        "print(list(even_numbers))  # Output: [2, 4]"
      ]
    }
  ],
  "metadata": {
    "colab": {
      "provenance": []
    },
    "kernelspec": {
      "display_name": "Python 3",
      "name": "python3"
    },
    "language_info": {
      "name": "python"
    }
  },
  "nbformat": 4,
  "nbformat_minor": 0
}
